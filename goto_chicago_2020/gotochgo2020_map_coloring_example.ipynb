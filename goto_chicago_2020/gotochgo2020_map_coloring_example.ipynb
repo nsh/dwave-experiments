{
 "cells": [
  {
   "cell_type": "code",
   "execution_count": null,
   "metadata": {},
   "outputs": [],
   "source": [
    "import dwavebinarycsp\n",
    "from hybrid.reference.kerberos import KerberosSampler"
   ]
  },
  {
   "cell_type": "code",
   "execution_count": null,
   "metadata": {},
   "outputs": [],
   "source": [
    "import utilities_map"
   ]
  },
  {
   "cell_type": "code",
   "execution_count": null,
   "metadata": {},
   "outputs": [],
   "source": [
    "class Province:\n",
    "    def __init__(self, name):\n",
    "        self.name = name\n",
    "        self.red = name + \"_r\" # name of binary variable for red\n",
    "        self.green = name + \"_g\" # and so forth\n",
    "        self.blue = name + \"_b\"\n",
    "        self.yellow = name + \"_y\""
   ]
  },
  {
   "cell_type": "markdown",
   "metadata": {},
   "source": [
    "Provinces in Canada\n",
    "AB, BC, MB, NB, NL, NS, NT, NU, ON, PE, QC, SK, YT"
   ]
  },
  {
   "cell_type": "code",
   "execution_count": null,
   "metadata": {},
   "outputs": [],
   "source": [
    "ab = Province('ab')\n",
    "bc = Province('bc')\n",
    "mb = Province('mb')\n",
    "nb = Province('nb')\n",
    "nl = Province('nl')\n",
    "ns = Province('ns')\n",
    "nt = Province('nt')\n",
    "nu = Province('nu')\n",
    "on = Province('on')\n",
    "pe = Province('pe')\n",
    "qc = Province('qc')\n",
    "sk = Province('sk')\n",
    "yt = Province('yt')\n",
    "\n",
    "provinces = [ab, bc, mb, nb, nl, ns, nt, nu, on, pe, qc, sk, yt]"
   ]
  },
  {
   "cell_type": "markdown",
   "metadata": {},
   "source": [
    "Borders between provinces:\n",
    "\n",
    "AB, BC  \n",
    "AB, NT  \n",
    "AB, SK  \n",
    "BC, NT  \n",
    "BC, YT  \n",
    "MB, NU  \n",
    "MB, ON  \n",
    "MB, SK  \n",
    "NB, NS  \n",
    "NB, QC  \n",
    "NL, QC  \n",
    "NT, NU  \n",
    "NT, SK  \n",
    "NT, YT  \n",
    "ON, QC"
   ]
  },
  {
   "cell_type": "code",
   "execution_count": null,
   "metadata": {},
   "outputs": [],
   "source": [
    "neighbours = [\n",
    "    (ab, bc),\n",
    "(ab, nt),\n",
    "(ab, sk),\n",
    "(bc, nt),\n",
    "(bc, yt),\n",
    "(mb, nu),\n",
    "(mb, on),\n",
    "(mb, sk),\n",
    "(nb, ns),\n",
    "(nb, qc),\n",
    "(nl, qc),\n",
    "(nt, nu),\n",
    "(nt, sk),\n",
    "(nt, yt),\n",
    "(on, qc)\n",
    "]\n"
   ]
  },
  {
   "cell_type": "code",
   "execution_count": null,
   "metadata": {},
   "outputs": [],
   "source": [
    "csp = dwavebinarycsp.ConstraintSatisfactionProblem(dwavebinarycsp.BINARY)"
   ]
  },
  {
   "cell_type": "code",
   "execution_count": null,
   "metadata": {},
   "outputs": [],
   "source": [
    "# Each province can only have 1 color !\n",
    "# For each province, the following configs apply\n",
    "only_one_color = {(0, 0, 0, 1), (0, 0, 1, 0), (0, 1, 0, 0), (1, 0, 0, 0)}"
   ]
  },
  {
   "cell_type": "code",
   "execution_count": null,
   "metadata": {},
   "outputs": [],
   "source": [
    "for p in provinces:\n",
    "    csp.add_constraint(only_one_color, {p.red, p.green, p.blue, p.yellow})"
   ]
  },
  {
   "cell_type": "code",
   "execution_count": null,
   "metadata": {},
   "outputs": [],
   "source": [
    "not_both = {(0, 0), (0, 1), (1, 0)}"
   ]
  },
  {
   "cell_type": "code",
   "execution_count": null,
   "metadata": {},
   "outputs": [],
   "source": [
    "for x, y in neighbours:\n",
    "    csp.add_constraint(not_both, {x.red, y.red})\n",
    "    csp.add_constraint(not_both, {x.green, y.green})\n",
    "    csp.add_constraint(not_both, {x.blue, y.blue})\n",
    "    csp.add_constraint(not_both, {x.yellow, y.yellow})"
   ]
  },
  {
   "cell_type": "code",
   "execution_count": null,
   "metadata": {},
   "outputs": [],
   "source": [
    "bqm = dwavebinarycsp.stitch(csp)"
   ]
  },
  {
   "cell_type": "code",
   "execution_count": null,
   "metadata": {},
   "outputs": [],
   "source": [
    "print(\"Sampling\")\n",
    "#response = sampler.sample(bqm, num_reads=1000)\n",
    "response = KerberosSampler().sample(bqm)\n",
    "print(\"Done\")"
   ]
  },
  {
   "cell_type": "code",
   "execution_count": null,
   "metadata": {},
   "outputs": [],
   "source": [
    "print(response)"
   ]
  },
  {
   "cell_type": "code",
   "execution_count": null,
   "metadata": {},
   "outputs": [],
   "source": [
    "print(csp.check(response.first.sample))"
   ]
  },
  {
   "cell_type": "code",
   "execution_count": null,
   "metadata": {},
   "outputs": [],
   "source": [
    "nodes = [p.name for p in provinces]"
   ]
  },
  {
   "cell_type": "code",
   "execution_count": null,
   "metadata": {},
   "outputs": [],
   "source": [
    "edges = [(p1.name, p2.name) for p1, p2 in neighbours]"
   ]
  },
  {
   "cell_type": "code",
   "execution_count": null,
   "metadata": {},
   "outputs": [],
   "source": [
    "import networkx as nx\n",
    "\n",
    "import matplotlib\n",
    "#matplotlib.use(\"inline\")   # select backend\n",
    "import matplotlib.pyplot as plt\n",
    "\n",
    "\n",
    "def visualize_map(nodes, edges, sample, node_positions=None):\n",
    "    # Set up graph\n",
    "    G = nx.Graph(edges)\n",
    "\n",
    "    lone_nodes = set(nodes) - set(G.nodes)  # nodes without edges\n",
    "    for lone_node in lone_nodes:\n",
    "        G.add_node(lone_node)\n",
    "\n",
    "    # Grab the colors selected by sample\n",
    "    color_labels = [k for k, v in sample.items() if v == 1]\n",
    "\n",
    "    # Get color order to match that of the graph nodes\n",
    "    for label in color_labels:\n",
    "        name, color = label.split(\"_\")\n",
    "        G.nodes[name][\"color\"] = color\n",
    "    color_map = [color for name, color in G.nodes(data=\"color\")]\n",
    "\n",
    "    # Draw graph\n",
    "    nx.draw_networkx(G, pos=node_positions, with_labels=True,\n",
    "                     node_color=color_map, font_color=\"w\", node_size=400)\n",
    "\n",
    "    plt.show()"
   ]
  },
  {
   "cell_type": "code",
   "execution_count": null,
   "metadata": {},
   "outputs": [],
   "source": [
    "%matplotlib inline\n",
    "visualize_map(nodes, edges, response.first.sample)"
   ]
  }
 ],
 "metadata": {
  "kernelspec": {
   "display_name": "Python 3",
   "language": "python",
   "name": "python3"
  },
  "language_info": {
   "codemirror_mode": {
    "name": "ipython",
    "version": 3
   },
   "file_extension": ".py",
   "mimetype": "text/x-python",
   "name": "python",
   "nbconvert_exporter": "python",
   "pygments_lexer": "ipython3",
   "version": "3.7.7"
  }
 },
 "nbformat": 4,
 "nbformat_minor": 4
}
